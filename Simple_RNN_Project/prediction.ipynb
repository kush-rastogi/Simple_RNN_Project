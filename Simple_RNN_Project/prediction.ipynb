{
 "cells": [
  {
   "cell_type": "code",
   "execution_count": 15,
   "id": "a654be12",
   "metadata": {},
   "outputs": [],
   "source": [
    "# Step 1: Import Libraries and Load the Model\n",
    "import numpy as np\n",
    "import tensorflow as tf\n",
    "from tensorflow.keras.datasets import imdb\n",
    "from tensorflow.keras.preprocessing import sequence\n",
    "from tensorflow.keras.models import load_model"
   ]
  },
  {
   "cell_type": "code",
   "execution_count": 16,
   "id": "1ea24fc0",
   "metadata": {},
   "outputs": [],
   "source": [
    "\n",
    "# Load the IMDB dataset word index\n",
    "word_index = imdb.get_word_index()\n",
    "reverse_word_index = {value: key for key, value in word_index.items()}"
   ]
  },
  {
   "cell_type": "code",
   "execution_count": 17,
   "id": "e24dc8c6",
   "metadata": {},
   "outputs": [
    {
     "name": "stderr",
     "output_type": "stream",
     "text": [
      "WARNING:absl:Compiled the loaded model, but the compiled metrics have yet to be built. `model.compile_metrics` will be empty until you train or evaluate the model.\n"
     ]
    },
    {
     "data": {
      "text/html": [
       "<pre style=\"white-space:pre;overflow-x:auto;line-height:normal;font-family:Menlo,'DejaVu Sans Mono',consolas,'Courier New',monospace\"><span style=\"font-weight: bold\">Model: \"sequential\"</span>\n",
       "</pre>\n"
      ],
      "text/plain": [
       "\u001b[1mModel: \"sequential\"\u001b[0m\n"
      ]
     },
     "metadata": {},
     "output_type": "display_data"
    },
    {
     "data": {
      "text/html": [
       "<pre style=\"white-space:pre;overflow-x:auto;line-height:normal;font-family:Menlo,'DejaVu Sans Mono',consolas,'Courier New',monospace\">┏━━━━━━━━━━━━━━━━━━━━━━━━━━━━━━━━━┳━━━━━━━━━━━━━━━━━━━━━━━━┳━━━━━━━━━━━━━━━┓\n",
       "┃<span style=\"font-weight: bold\"> Layer (type)                    </span>┃<span style=\"font-weight: bold\"> Output Shape           </span>┃<span style=\"font-weight: bold\">       Param # </span>┃\n",
       "┡━━━━━━━━━━━━━━━━━━━━━━━━━━━━━━━━━╇━━━━━━━━━━━━━━━━━━━━━━━━╇━━━━━━━━━━━━━━━┩\n",
       "│ embedding (<span style=\"color: #0087ff; text-decoration-color: #0087ff\">Embedding</span>)           │ (<span style=\"color: #00d7ff; text-decoration-color: #00d7ff\">None</span>, <span style=\"color: #00af00; text-decoration-color: #00af00\">500</span>, <span style=\"color: #00af00; text-decoration-color: #00af00\">128</span>)       │     <span style=\"color: #00af00; text-decoration-color: #00af00\">1,280,000</span> │\n",
       "├─────────────────────────────────┼────────────────────────┼───────────────┤\n",
       "│ simple_rnn (<span style=\"color: #0087ff; text-decoration-color: #0087ff\">SimpleRNN</span>)          │ (<span style=\"color: #00d7ff; text-decoration-color: #00d7ff\">None</span>, <span style=\"color: #00af00; text-decoration-color: #00af00\">128</span>)            │        <span style=\"color: #00af00; text-decoration-color: #00af00\">32,896</span> │\n",
       "├─────────────────────────────────┼────────────────────────┼───────────────┤\n",
       "│ dense (<span style=\"color: #0087ff; text-decoration-color: #0087ff\">Dense</span>)                   │ (<span style=\"color: #00d7ff; text-decoration-color: #00d7ff\">None</span>, <span style=\"color: #00af00; text-decoration-color: #00af00\">1</span>)              │           <span style=\"color: #00af00; text-decoration-color: #00af00\">129</span> │\n",
       "└─────────────────────────────────┴────────────────────────┴───────────────┘\n",
       "</pre>\n"
      ],
      "text/plain": [
       "┏━━━━━━━━━━━━━━━━━━━━━━━━━━━━━━━━━┳━━━━━━━━━━━━━━━━━━━━━━━━┳━━━━━━━━━━━━━━━┓\n",
       "┃\u001b[1m \u001b[0m\u001b[1mLayer (type)                   \u001b[0m\u001b[1m \u001b[0m┃\u001b[1m \u001b[0m\u001b[1mOutput Shape          \u001b[0m\u001b[1m \u001b[0m┃\u001b[1m \u001b[0m\u001b[1m      Param #\u001b[0m\u001b[1m \u001b[0m┃\n",
       "┡━━━━━━━━━━━━━━━━━━━━━━━━━━━━━━━━━╇━━━━━━━━━━━━━━━━━━━━━━━━╇━━━━━━━━━━━━━━━┩\n",
       "│ embedding (\u001b[38;5;33mEmbedding\u001b[0m)           │ (\u001b[38;5;45mNone\u001b[0m, \u001b[38;5;34m500\u001b[0m, \u001b[38;5;34m128\u001b[0m)       │     \u001b[38;5;34m1,280,000\u001b[0m │\n",
       "├─────────────────────────────────┼────────────────────────┼───────────────┤\n",
       "│ simple_rnn (\u001b[38;5;33mSimpleRNN\u001b[0m)          │ (\u001b[38;5;45mNone\u001b[0m, \u001b[38;5;34m128\u001b[0m)            │        \u001b[38;5;34m32,896\u001b[0m │\n",
       "├─────────────────────────────────┼────────────────────────┼───────────────┤\n",
       "│ dense (\u001b[38;5;33mDense\u001b[0m)                   │ (\u001b[38;5;45mNone\u001b[0m, \u001b[38;5;34m1\u001b[0m)              │           \u001b[38;5;34m129\u001b[0m │\n",
       "└─────────────────────────────────┴────────────────────────┴───────────────┘\n"
      ]
     },
     "metadata": {},
     "output_type": "display_data"
    },
    {
     "data": {
      "text/html": [
       "<pre style=\"white-space:pre;overflow-x:auto;line-height:normal;font-family:Menlo,'DejaVu Sans Mono',consolas,'Courier New',monospace\"><span style=\"font-weight: bold\"> Total params: </span><span style=\"color: #00af00; text-decoration-color: #00af00\">1,313,027</span> (5.01 MB)\n",
       "</pre>\n"
      ],
      "text/plain": [
       "\u001b[1m Total params: \u001b[0m\u001b[38;5;34m1,313,027\u001b[0m (5.01 MB)\n"
      ]
     },
     "metadata": {},
     "output_type": "display_data"
    },
    {
     "data": {
      "text/html": [
       "<pre style=\"white-space:pre;overflow-x:auto;line-height:normal;font-family:Menlo,'DejaVu Sans Mono',consolas,'Courier New',monospace\"><span style=\"font-weight: bold\"> Trainable params: </span><span style=\"color: #00af00; text-decoration-color: #00af00\">1,313,025</span> (5.01 MB)\n",
       "</pre>\n"
      ],
      "text/plain": [
       "\u001b[1m Trainable params: \u001b[0m\u001b[38;5;34m1,313,025\u001b[0m (5.01 MB)\n"
      ]
     },
     "metadata": {},
     "output_type": "display_data"
    },
    {
     "data": {
      "text/html": [
       "<pre style=\"white-space:pre;overflow-x:auto;line-height:normal;font-family:Menlo,'DejaVu Sans Mono',consolas,'Courier New',monospace\"><span style=\"font-weight: bold\"> Non-trainable params: </span><span style=\"color: #00af00; text-decoration-color: #00af00\">0</span> (0.00 B)\n",
       "</pre>\n"
      ],
      "text/plain": [
       "\u001b[1m Non-trainable params: \u001b[0m\u001b[38;5;34m0\u001b[0m (0.00 B)\n"
      ]
     },
     "metadata": {},
     "output_type": "display_data"
    },
    {
     "data": {
      "text/html": [
       "<pre style=\"white-space:pre;overflow-x:auto;line-height:normal;font-family:Menlo,'DejaVu Sans Mono',consolas,'Courier New',monospace\"><span style=\"font-weight: bold\"> Optimizer params: </span><span style=\"color: #00af00; text-decoration-color: #00af00\">2</span> (12.00 B)\n",
       "</pre>\n"
      ],
      "text/plain": [
       "\u001b[1m Optimizer params: \u001b[0m\u001b[38;5;34m2\u001b[0m (12.00 B)\n"
      ]
     },
     "metadata": {},
     "output_type": "display_data"
    }
   ],
   "source": [
    "# Load the pre-trained model with ReLU activation\n",
    "model = load_model('simple_rnn_imdb.h5')\n",
    "model.summary()"
   ]
  },
  {
   "cell_type": "code",
   "execution_count": 18,
   "id": "6c3e8dfa",
   "metadata": {},
   "outputs": [
    {
     "data": {
      "text/plain": [
       "[array([[-4.1609064e-01, -3.2276189e-01, -2.0542628e-01, ...,\n",
       "          1.8437183e-01,  2.3730104e-01,  5.4353949e-02],\n",
       "        [-8.1671290e-02, -1.0389585e-02, -5.0011396e-02, ...,\n",
       "          1.0352977e-02,  2.2139195e-03, -2.4421958e-02],\n",
       "        [-8.0233410e-02, -7.3301794e-06,  9.1895042e-03, ...,\n",
       "         -7.1111601e-03,  7.4276596e-02, -7.5740859e-02],\n",
       "        ...,\n",
       "        [ 4.4508796e-02, -1.6363254e-02,  1.2728106e-02, ...,\n",
       "         -4.8564367e-02, -3.8851276e-03, -2.3349043e-02],\n",
       "        [ 5.2950349e-02, -4.3922167e-02, -1.0136646e-02, ...,\n",
       "          1.0674674e-02, -1.3743117e-02,  2.7279710e-02],\n",
       "        [-2.1236105e-02,  7.3307697e-03, -1.2983515e-02, ...,\n",
       "          5.7791762e-02,  4.9878594e-02, -2.3181884e-02]], dtype=float32),\n",
       " array([[-0.12198451, -0.14509958,  0.1084851 , ..., -0.06080489,\n",
       "          0.12931894, -0.06727028],\n",
       "        [ 0.01176931,  0.03062737, -0.0781366 , ..., -0.0611567 ,\n",
       "         -0.11549551,  0.00888701],\n",
       "        [-0.18543029,  0.05746915, -0.09244318, ...,  0.13345574,\n",
       "          0.00127014,  0.11985696],\n",
       "        ...,\n",
       "        [ 0.10681958,  0.03762551, -0.15554263, ..., -0.09541313,\n",
       "          0.04329164,  0.12533078],\n",
       "        [-0.02154103, -0.01299983, -0.15091313, ..., -0.08725684,\n",
       "          0.08736546,  0.03530416],\n",
       "        [-0.1273768 , -0.09582774, -0.03567121, ...,  0.10324901,\n",
       "         -0.06216087, -0.0745272 ]], dtype=float32),\n",
       " array([[ 0.04459108,  0.0809216 ,  0.02966231, ..., -0.09016047,\n",
       "          0.04300693,  0.01113544],\n",
       "        [ 0.17141768,  0.04981178,  0.01907332, ..., -0.05112465,\n",
       "         -0.07838716,  0.1666158 ],\n",
       "        [-0.08470011,  0.02152522,  0.15087989, ...,  0.01763519,\n",
       "          0.04801128, -0.13157704],\n",
       "        ...,\n",
       "        [ 0.00623251, -0.03889388,  0.11853068, ...,  0.08236625,\n",
       "          0.12791416, -0.04570145],\n",
       "        [ 0.12763035, -0.09768037, -0.03219614, ...,  0.13344549,\n",
       "          0.04703948,  0.00407449],\n",
       "        [-0.01037871, -0.03285922,  0.02428293, ..., -0.03816012,\n",
       "          0.22968091, -0.06065879]], dtype=float32),\n",
       " array([ 1.09790144e-02,  3.25145349e-02,  2.78812479e-02, -2.35479362e-02,\n",
       "        -1.78453773e-02,  1.37585646e-03,  7.53347995e-03,  3.52983852e-03,\n",
       "         1.53369792e-02,  1.96251869e-02,  1.13489776e-04, -1.04235420e-02,\n",
       "         1.64193176e-02, -2.65277061e-03, -1.38238333e-02,  2.03480572e-02,\n",
       "        -7.16841221e-03, -2.69927811e-02, -2.09741620e-03, -2.74231005e-03,\n",
       "         4.47045662e-04,  3.83587158e-03,  1.13923848e-02, -7.31950998e-03,\n",
       "        -8.55329912e-03, -7.14518828e-03,  1.88138187e-02, -1.54653704e-02,\n",
       "        -1.36610889e-03, -2.22046096e-02,  2.00037956e-02,  1.16298944e-02,\n",
       "        -1.51268272e-02, -1.17911398e-02, -6.80500269e-03, -6.14420351e-05,\n",
       "         1.07076839e-02, -1.08415997e-02, -1.45363677e-02,  4.02331203e-02,\n",
       "         2.91862804e-03,  4.91979998e-03, -5.29156951e-03, -1.57346930e-02,\n",
       "         1.61418561e-02, -1.43589005e-02, -1.79756377e-02,  4.84622689e-03,\n",
       "        -2.76254881e-02, -1.43500157e-02, -2.22479962e-02, -8.86321813e-03,\n",
       "        -1.10473167e-02,  2.46770196e-02,  2.08532140e-02,  1.51065588e-02,\n",
       "         1.71358921e-02, -1.25456033e-02, -2.18753908e-02,  2.37424802e-02,\n",
       "        -6.26510847e-03, -1.80388447e-02, -1.97937936e-02,  3.79157346e-03,\n",
       "        -5.71816554e-03, -1.32934423e-02, -6.33728830e-03, -2.77544395e-03,\n",
       "        -4.57578478e-03, -2.04773564e-02,  2.72786873e-03,  2.86726300e-02,\n",
       "        -2.66820882e-02,  2.90932227e-03, -1.47673385e-02,  4.81870724e-03,\n",
       "        -1.18204700e-02,  7.04425154e-04, -1.17352037e-02, -1.23104788e-02,\n",
       "        -7.93328136e-03,  3.98373557e-03, -1.91708319e-02, -8.48407391e-03,\n",
       "         1.51698906e-02, -1.06592160e-02, -5.08217979e-03,  6.33620191e-03,\n",
       "         2.93104220e-02, -6.66475575e-03, -2.31650304e-02, -2.82897102e-03,\n",
       "         1.61351226e-02,  1.91838033e-02,  9.71504953e-03,  2.63086632e-02,\n",
       "        -4.90741478e-03,  2.49078814e-02, -9.99054289e-04, -1.06196925e-02,\n",
       "        -4.06388193e-02,  3.27483825e-02, -1.23983249e-02, -4.97073447e-03,\n",
       "         4.19772938e-02,  3.59597383e-03, -1.80877373e-02, -1.05468500e-02,\n",
       "         7.93166365e-03,  9.59377922e-03,  2.21434310e-02, -8.45410023e-03,\n",
       "        -1.04657616e-02,  1.47968909e-04,  9.15770605e-03,  8.61904211e-03,\n",
       "        -5.02253510e-03, -3.27089510e-04, -1.21503202e-02, -1.02795698e-02,\n",
       "        -5.39820269e-03,  2.09500063e-02, -7.22326245e-03, -2.89842696e-03,\n",
       "         1.45945298e-02, -1.86001963e-03, -1.24683930e-02,  9.35596414e-03],\n",
       "       dtype=float32),\n",
       " array([[-0.06475213],\n",
       "        [ 0.01801308],\n",
       "        [ 0.09648497],\n",
       "        [ 0.0909375 ],\n",
       "        [-0.18296582],\n",
       "        [-0.30174854],\n",
       "        [-0.17019707],\n",
       "        [ 0.18661675],\n",
       "        [ 0.24082613],\n",
       "        [-0.03451089],\n",
       "        [ 0.02050692],\n",
       "        [-0.19983822],\n",
       "        [ 0.13694717],\n",
       "        [-0.20585386],\n",
       "        [ 0.19030097],\n",
       "        [-0.11281119],\n",
       "        [ 0.00489213],\n",
       "        [-0.30086192],\n",
       "        [ 0.1366251 ],\n",
       "        [ 0.22291213],\n",
       "        [-0.00520786],\n",
       "        [-0.170324  ],\n",
       "        [ 0.1888375 ],\n",
       "        [-0.01475922],\n",
       "        [-0.17112981],\n",
       "        [-0.13067959],\n",
       "        [-0.12072515],\n",
       "        [-0.26391742],\n",
       "        [-0.01968914],\n",
       "        [-0.11490293],\n",
       "        [-0.14980446],\n",
       "        [-0.00879768],\n",
       "        [-0.06119567],\n",
       "        [ 0.08294078],\n",
       "        [ 0.09431305],\n",
       "        [-0.17293292],\n",
       "        [-0.06492687],\n",
       "        [-0.18542157],\n",
       "        [-0.04880252],\n",
       "        [ 0.16427805],\n",
       "        [ 0.12643829],\n",
       "        [ 0.14490712],\n",
       "        [-0.39708665],\n",
       "        [ 0.10093275],\n",
       "        [-0.00247823],\n",
       "        [-0.20159194],\n",
       "        [ 0.06035981],\n",
       "        [ 0.04679485],\n",
       "        [-0.19522889],\n",
       "        [-0.0969905 ],\n",
       "        [-0.03454798],\n",
       "        [ 0.09274614],\n",
       "        [-0.21568784],\n",
       "        [ 0.11649437],\n",
       "        [ 0.1161041 ],\n",
       "        [-0.1386037 ],\n",
       "        [-0.17428523],\n",
       "        [ 0.20605922],\n",
       "        [-0.15931907],\n",
       "        [-0.2003222 ],\n",
       "        [-0.24097213],\n",
       "        [ 0.00144137],\n",
       "        [ 0.21649283],\n",
       "        [ 0.0657893 ],\n",
       "        [-0.00043937],\n",
       "        [-0.12471136],\n",
       "        [ 0.16150805],\n",
       "        [-0.11065828],\n",
       "        [-0.11323307],\n",
       "        [ 0.0857167 ],\n",
       "        [ 0.11266983],\n",
       "        [ 0.00659934],\n",
       "        [ 0.03653964],\n",
       "        [ 0.26814112],\n",
       "        [-0.00149905],\n",
       "        [ 0.08651491],\n",
       "        [-0.12135135],\n",
       "        [-0.08912034],\n",
       "        [ 0.093451  ],\n",
       "        [-0.07786325],\n",
       "        [-0.20782281],\n",
       "        [-0.01847369],\n",
       "        [-0.02459113],\n",
       "        [-0.18961821],\n",
       "        [ 0.06180691],\n",
       "        [-0.07777839],\n",
       "        [-0.05504229],\n",
       "        [-0.08862028],\n",
       "        [ 0.16324325],\n",
       "        [-0.06164889],\n",
       "        [-0.25374126],\n",
       "        [-0.13830717],\n",
       "        [-0.20541126],\n",
       "        [ 0.23940448],\n",
       "        [-0.00236208],\n",
       "        [-0.12178338],\n",
       "        [ 0.11286334],\n",
       "        [-0.05479551],\n",
       "        [ 0.00069904],\n",
       "        [ 0.09134113],\n",
       "        [-0.16574565],\n",
       "        [-0.06571612],\n",
       "        [-0.18144013],\n",
       "        [ 0.08237498],\n",
       "        [ 0.16895202],\n",
       "        [-0.17642401],\n",
       "        [-0.01140811],\n",
       "        [-0.1807258 ],\n",
       "        [-0.11136325],\n",
       "        [ 0.13953005],\n",
       "        [ 0.00844629],\n",
       "        [-0.08427753],\n",
       "        [-0.02928204],\n",
       "        [ 0.18220532],\n",
       "        [-0.06482621],\n",
       "        [ 0.14223754],\n",
       "        [ 0.16721797],\n",
       "        [-0.19805618],\n",
       "        [-0.00136388],\n",
       "        [-0.11804258],\n",
       "        [ 0.05468054],\n",
       "        [ 0.15686451],\n",
       "        [-0.17073508],\n",
       "        [ 0.15024926],\n",
       "        [ 0.14439984],\n",
       "        [-0.09628829],\n",
       "        [-0.19323644],\n",
       "        [-0.1364313 ]], dtype=float32),\n",
       " array([-0.25193268], dtype=float32)]"
      ]
     },
     "execution_count": 18,
     "metadata": {},
     "output_type": "execute_result"
    }
   ],
   "source": [
    "model.get_weights()"
   ]
  },
  {
   "cell_type": "code",
   "execution_count": 19,
   "id": "22405e87",
   "metadata": {},
   "outputs": [],
   "source": [
    "# Step 2: Helper Functions\n",
    "# Function to decode reviews\n",
    "def decode_review(encoded_review):\n",
    "    return ' '.join([reverse_word_index.get(i - 3, '?') for i in encoded_review])\n",
    "\n",
    "# Function to preprocess user input\n",
    "def preprocess_text(text):\n",
    "    words = text.lower().split()\n",
    "    encoded_review = [word_index.get(word, 2) + 3 for word in words]\n",
    "    padded_review = sequence.pad_sequences([encoded_review], maxlen=500)\n",
    "    return padded_review"
   ]
  },
  {
   "cell_type": "code",
   "execution_count": 20,
   "id": "9c45f295",
   "metadata": {},
   "outputs": [],
   "source": [
    "### Prediction  function\n",
    "\n",
    "def predict_sentiment(review):\n",
    "    preprocessed_input=preprocess_text(review)\n",
    "\n",
    "    prediction=model.predict(preprocessed_input)\n",
    "\n",
    "    sentiment = 'Positive' if prediction[0][0] > 0.5 else 'Negative'\n",
    "    \n",
    "    return sentiment, prediction[0][0]\n",
    "\n"
   ]
  },
  {
   "cell_type": "code",
   "execution_count": 21,
   "id": "36c2293c",
   "metadata": {},
   "outputs": [
    {
     "name": "stdout",
     "output_type": "stream",
     "text": [
      "\u001b[1m1/1\u001b[0m \u001b[32m━━━━━━━━━━━━━━━━━━━━\u001b[0m\u001b[37m\u001b[0m \u001b[1m0s\u001b[0m 251ms/step\n",
      "Review: This movie was fantastic! The acting was great and the plot was thrilling.\n",
      "Sentiment: Positive\n",
      "Prediction Score: 0.8379630446434021\n"
     ]
    }
   ],
   "source": [
    "# Step 4: User Input and Prediction\n",
    "# Example review for prediction\n",
    "example_review = \"This movie was fantastic! The acting was great and the plot was thrilling.\"\n",
    "\n",
    "sentiment,score=predict_sentiment(example_review)\n",
    "\n",
    "print(f'Review: {example_review}')\n",
    "print(f'Sentiment: {sentiment}')\n",
    "print(f'Prediction Score: {score}')"
   ]
  },
  {
   "cell_type": "code",
   "execution_count": null,
   "id": "a4bed808",
   "metadata": {},
   "outputs": [],
   "source": []
  }
 ],
 "metadata": {
  "kernelspec": {
   "display_name": "venv",
   "language": "python",
   "name": "python3"
  },
  "language_info": {
   "codemirror_mode": {
    "name": "ipython",
    "version": 3
   },
   "file_extension": ".py",
   "mimetype": "text/x-python",
   "name": "python",
   "nbconvert_exporter": "python",
   "pygments_lexer": "ipython3",
   "version": "3.12.5"
  }
 },
 "nbformat": 4,
 "nbformat_minor": 5
}
