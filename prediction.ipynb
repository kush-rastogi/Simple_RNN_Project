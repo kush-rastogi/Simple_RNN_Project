{
 "cells": [
  {
   "cell_type": "code",
   "execution_count": 1,
   "id": "a654be12",
   "metadata": {},
   "outputs": [],
   "source": [
    "# Step 1: Import Libraries and Load the Model\n",
    "import numpy as np\n",
    "import tensorflow as tf\n",
    "from tensorflow.keras.datasets import imdb\n",
    "from tensorflow.keras.preprocessing import sequence\n",
    "from tensorflow.keras.models import load_model"
   ]
  },
  {
   "cell_type": "code",
   "execution_count": 2,
   "id": "1ea24fc0",
   "metadata": {},
   "outputs": [],
   "source": [
    "\n",
    "# Load the IMDB dataset word index\n",
    "word_index = imdb.get_word_index()\n",
    "reverse_word_index = {value: key for key, value in word_index.items()}"
   ]
  },
  {
   "cell_type": "code",
   "execution_count": 3,
   "id": "e24dc8c6",
   "metadata": {},
   "outputs": [
    {
     "name": "stderr",
     "output_type": "stream",
     "text": [
      "WARNING:absl:Compiled the loaded model, but the compiled metrics have yet to be built. `model.compile_metrics` will be empty until you train or evaluate the model.\n"
     ]
    },
    {
     "data": {
      "text/html": [
       "<pre style=\"white-space:pre;overflow-x:auto;line-height:normal;font-family:Menlo,'DejaVu Sans Mono',consolas,'Courier New',monospace\"><span style=\"font-weight: bold\">Model: \"sequential\"</span>\n",
       "</pre>\n"
      ],
      "text/plain": [
       "\u001b[1mModel: \"sequential\"\u001b[0m\n"
      ]
     },
     "metadata": {},
     "output_type": "display_data"
    },
    {
     "data": {
      "text/html": [
       "<pre style=\"white-space:pre;overflow-x:auto;line-height:normal;font-family:Menlo,'DejaVu Sans Mono',consolas,'Courier New',monospace\">┏━━━━━━━━━━━━━━━━━━━━━━━━━━━━━━━━━┳━━━━━━━━━━━━━━━━━━━━━━━━┳━━━━━━━━━━━━━━━┓\n",
       "┃<span style=\"font-weight: bold\"> Layer (type)                    </span>┃<span style=\"font-weight: bold\"> Output Shape           </span>┃<span style=\"font-weight: bold\">       Param # </span>┃\n",
       "┡━━━━━━━━━━━━━━━━━━━━━━━━━━━━━━━━━╇━━━━━━━━━━━━━━━━━━━━━━━━╇━━━━━━━━━━━━━━━┩\n",
       "│ embedding (<span style=\"color: #0087ff; text-decoration-color: #0087ff\">Embedding</span>)           │ (<span style=\"color: #00d7ff; text-decoration-color: #00d7ff\">None</span>, <span style=\"color: #00af00; text-decoration-color: #00af00\">500</span>, <span style=\"color: #00af00; text-decoration-color: #00af00\">128</span>)       │     <span style=\"color: #00af00; text-decoration-color: #00af00\">1,280,000</span> │\n",
       "├─────────────────────────────────┼────────────────────────┼───────────────┤\n",
       "│ simple_rnn (<span style=\"color: #0087ff; text-decoration-color: #0087ff\">SimpleRNN</span>)          │ (<span style=\"color: #00d7ff; text-decoration-color: #00d7ff\">None</span>, <span style=\"color: #00af00; text-decoration-color: #00af00\">128</span>)            │        <span style=\"color: #00af00; text-decoration-color: #00af00\">32,896</span> │\n",
       "├─────────────────────────────────┼────────────────────────┼───────────────┤\n",
       "│ dense (<span style=\"color: #0087ff; text-decoration-color: #0087ff\">Dense</span>)                   │ (<span style=\"color: #00d7ff; text-decoration-color: #00d7ff\">None</span>, <span style=\"color: #00af00; text-decoration-color: #00af00\">1</span>)              │           <span style=\"color: #00af00; text-decoration-color: #00af00\">129</span> │\n",
       "└─────────────────────────────────┴────────────────────────┴───────────────┘\n",
       "</pre>\n"
      ],
      "text/plain": [
       "┏━━━━━━━━━━━━━━━━━━━━━━━━━━━━━━━━━┳━━━━━━━━━━━━━━━━━━━━━━━━┳━━━━━━━━━━━━━━━┓\n",
       "┃\u001b[1m \u001b[0m\u001b[1mLayer (type)                   \u001b[0m\u001b[1m \u001b[0m┃\u001b[1m \u001b[0m\u001b[1mOutput Shape          \u001b[0m\u001b[1m \u001b[0m┃\u001b[1m \u001b[0m\u001b[1m      Param #\u001b[0m\u001b[1m \u001b[0m┃\n",
       "┡━━━━━━━━━━━━━━━━━━━━━━━━━━━━━━━━━╇━━━━━━━━━━━━━━━━━━━━━━━━╇━━━━━━━━━━━━━━━┩\n",
       "│ embedding (\u001b[38;5;33mEmbedding\u001b[0m)           │ (\u001b[38;5;45mNone\u001b[0m, \u001b[38;5;34m500\u001b[0m, \u001b[38;5;34m128\u001b[0m)       │     \u001b[38;5;34m1,280,000\u001b[0m │\n",
       "├─────────────────────────────────┼────────────────────────┼───────────────┤\n",
       "│ simple_rnn (\u001b[38;5;33mSimpleRNN\u001b[0m)          │ (\u001b[38;5;45mNone\u001b[0m, \u001b[38;5;34m128\u001b[0m)            │        \u001b[38;5;34m32,896\u001b[0m │\n",
       "├─────────────────────────────────┼────────────────────────┼───────────────┤\n",
       "│ dense (\u001b[38;5;33mDense\u001b[0m)                   │ (\u001b[38;5;45mNone\u001b[0m, \u001b[38;5;34m1\u001b[0m)              │           \u001b[38;5;34m129\u001b[0m │\n",
       "└─────────────────────────────────┴────────────────────────┴───────────────┘\n"
      ]
     },
     "metadata": {},
     "output_type": "display_data"
    },
    {
     "data": {
      "text/html": [
       "<pre style=\"white-space:pre;overflow-x:auto;line-height:normal;font-family:Menlo,'DejaVu Sans Mono',consolas,'Courier New',monospace\"><span style=\"font-weight: bold\"> Total params: </span><span style=\"color: #00af00; text-decoration-color: #00af00\">1,313,027</span> (5.01 MB)\n",
       "</pre>\n"
      ],
      "text/plain": [
       "\u001b[1m Total params: \u001b[0m\u001b[38;5;34m1,313,027\u001b[0m (5.01 MB)\n"
      ]
     },
     "metadata": {},
     "output_type": "display_data"
    },
    {
     "data": {
      "text/html": [
       "<pre style=\"white-space:pre;overflow-x:auto;line-height:normal;font-family:Menlo,'DejaVu Sans Mono',consolas,'Courier New',monospace\"><span style=\"font-weight: bold\"> Trainable params: </span><span style=\"color: #00af00; text-decoration-color: #00af00\">1,313,025</span> (5.01 MB)\n",
       "</pre>\n"
      ],
      "text/plain": [
       "\u001b[1m Trainable params: \u001b[0m\u001b[38;5;34m1,313,025\u001b[0m (5.01 MB)\n"
      ]
     },
     "metadata": {},
     "output_type": "display_data"
    },
    {
     "data": {
      "text/html": [
       "<pre style=\"white-space:pre;overflow-x:auto;line-height:normal;font-family:Menlo,'DejaVu Sans Mono',consolas,'Courier New',monospace\"><span style=\"font-weight: bold\"> Non-trainable params: </span><span style=\"color: #00af00; text-decoration-color: #00af00\">0</span> (0.00 B)\n",
       "</pre>\n"
      ],
      "text/plain": [
       "\u001b[1m Non-trainable params: \u001b[0m\u001b[38;5;34m0\u001b[0m (0.00 B)\n"
      ]
     },
     "metadata": {},
     "output_type": "display_data"
    },
    {
     "data": {
      "text/html": [
       "<pre style=\"white-space:pre;overflow-x:auto;line-height:normal;font-family:Menlo,'DejaVu Sans Mono',consolas,'Courier New',monospace\"><span style=\"font-weight: bold\"> Optimizer params: </span><span style=\"color: #00af00; text-decoration-color: #00af00\">2</span> (12.00 B)\n",
       "</pre>\n"
      ],
      "text/plain": [
       "\u001b[1m Optimizer params: \u001b[0m\u001b[38;5;34m2\u001b[0m (12.00 B)\n"
      ]
     },
     "metadata": {},
     "output_type": "display_data"
    }
   ],
   "source": [
    "# Load the pre-trained model with ReLU activation\n",
    "model = load_model('simple_rnn_imdb.h5')\n",
    "model.summary()"
   ]
  },
  {
   "cell_type": "code",
   "execution_count": 4,
   "id": "6c3e8dfa",
   "metadata": {},
   "outputs": [
    {
     "data": {
      "text/plain": [
       "[array([[-0.3396599 ,  0.44619   ,  0.4543038 , ...,  0.15980193,\n",
       "          1.0099474 , -0.3294574 ],\n",
       "        [ 0.07094569, -0.07345627, -0.05534358, ..., -0.0513873 ,\n",
       "         -0.05465246,  0.06152944],\n",
       "        [-0.09293391, -0.00525597,  0.10407386, ..., -0.02671583,\n",
       "          0.12386812,  0.17357354],\n",
       "        ...,\n",
       "        [-0.09071562,  0.00938972, -0.01908646, ...,  0.03292308,\n",
       "          0.04401669,  0.02006162],\n",
       "        [ 0.00785429,  0.06665869,  0.02112484, ...,  0.00612268,\n",
       "          0.09120711,  0.00462574],\n",
       "        [ 0.0111593 , -0.06312256, -0.02728809, ..., -0.09153906,\n",
       "         -0.07277808, -0.05279138]], dtype=float32),\n",
       " array([[ 0.0352134 , -0.04646091,  0.19568926, ..., -0.01856325,\n",
       "          0.11606892,  0.14219439],\n",
       "        [-0.08333074,  0.015475  , -0.09350358, ...,  0.0157879 ,\n",
       "          0.04514718, -0.07372554],\n",
       "        [-0.13410473, -0.04459019,  0.0454968 , ..., -0.07675959,\n",
       "         -0.14793542, -0.21025042],\n",
       "        ...,\n",
       "        [ 0.11225013, -0.14226179, -0.02373495, ...,  0.16785876,\n",
       "          0.07167795, -0.10740677],\n",
       "        [-0.0301529 , -0.00183873, -0.15910228, ..., -0.08043564,\n",
       "         -0.0289993 , -0.20536499],\n",
       "        [ 0.04845374,  0.01419161, -0.07505853, ..., -0.1393163 ,\n",
       "         -0.16122676, -0.14665362]], dtype=float32),\n",
       " array([[-0.12265772,  0.11791633,  0.012206  , ..., -0.03871259,\n",
       "          0.00887376, -0.09023512],\n",
       "        [-0.07001334,  0.09063064,  0.09913823, ..., -0.16962665,\n",
       "         -0.03614793, -0.04042387],\n",
       "        [-0.32210267,  0.1571991 , -0.18463856, ..., -0.14105642,\n",
       "         -0.12268558, -0.28622112],\n",
       "        ...,\n",
       "        [-0.13211605, -0.10692472, -0.0160256 , ..., -0.21749097,\n",
       "          0.06445395, -0.01632583],\n",
       "        [-0.00540275,  0.05712701,  0.03766116, ..., -0.00612194,\n",
       "         -0.05884767, -0.02711265],\n",
       "        [ 0.04950836, -0.10641172, -0.13807295, ..., -0.11842068,\n",
       "         -0.0799683 , -0.12682264]], dtype=float32),\n",
       " array([-0.05611297, -0.06652647, -0.05293205,  0.05778758, -0.02121867,\n",
       "        -0.09543182, -0.02232707, -0.05212466, -0.00838127, -0.03978934,\n",
       "         0.00554992, -0.05367355,  0.0334938 , -0.05589363, -0.07732725,\n",
       "         0.00242965, -0.03372532,  0.00275471,  0.01184872, -0.0330909 ,\n",
       "        -0.0340176 ,  0.02811745, -0.01159645, -0.01758588,  0.01398104,\n",
       "        -0.04317456, -0.05317707, -0.04326925, -0.07124662,  0.03413707,\n",
       "        -0.05627086, -0.05587266, -0.05581206,  0.02138118, -0.02622304,\n",
       "        -0.06945252, -0.03523826,  0.04177209, -0.00715905, -0.03448134,\n",
       "        -0.07275183, -0.03149134, -0.04656968,  0.06822696,  0.05645519,\n",
       "        -0.03939782, -0.04212635,  0.01835156, -0.02209079, -0.06184732,\n",
       "        -0.0589379 , -0.05491791,  0.02307613, -0.0324136 , -0.032438  ,\n",
       "         0.06794628, -0.00263477, -0.03992418, -0.02255647, -0.03237873,\n",
       "        -0.05202327, -0.08544651,  0.02803893, -0.02703505,  0.01391163,\n",
       "         0.01138847, -0.0355841 , -0.05311543, -0.06304737, -0.00144668,\n",
       "        -0.00817064,  0.01462333, -0.03681311,  0.0004905 , -0.04681652,\n",
       "         0.03925198,  0.05669677, -0.06711079,  0.01844002, -0.04583642,\n",
       "        -0.00325424, -0.06415048, -0.02513342, -0.04233641, -0.0980444 ,\n",
       "         0.00590235, -0.06861785, -0.04081931, -0.08896779,  0.04633637,\n",
       "        -0.05208   ,  0.03945175, -0.02861072, -0.02556277,  0.05815573,\n",
       "         0.01279449, -0.05346429, -0.04013398,  0.05520678,  0.00112453,\n",
       "         0.00026586, -0.01286802,  0.00468389, -0.07675895,  0.00730769,\n",
       "        -0.01553291, -0.06849902,  0.01109098, -0.03795278, -0.0530021 ,\n",
       "        -0.05762894, -0.04998581, -0.02050372,  0.00989593, -0.02843758,\n",
       "        -0.05101667, -0.03373834,  0.01032952,  0.06407639,  0.06507819,\n",
       "        -0.04553243, -0.06006761,  0.01891467, -0.02294827, -0.02951035,\n",
       "        -0.05572452, -0.05902789,  0.02757048], dtype=float32),\n",
       " array([[ 0.18423326],\n",
       "        [ 0.15039276],\n",
       "        [ 0.11185601],\n",
       "        [-0.19933327],\n",
       "        [ 0.37636766],\n",
       "        [ 0.17563742],\n",
       "        [ 0.17586733],\n",
       "        [-0.0880844 ],\n",
       "        [-0.11248556],\n",
       "        [ 0.05744817],\n",
       "        [-0.34857273],\n",
       "        [-0.15760311],\n",
       "        [ 0.20890431],\n",
       "        [-0.04832583],\n",
       "        [ 0.21569236],\n",
       "        [ 0.17261061],\n",
       "        [ 0.14661363],\n",
       "        [ 0.20994276],\n",
       "        [ 0.15322614],\n",
       "        [ 0.21167293],\n",
       "        [ 0.13018385],\n",
       "        [ 0.4843502 ],\n",
       "        [-0.09846061],\n",
       "        [-0.00292003],\n",
       "        [-0.115578  ],\n",
       "        [-0.26886562],\n",
       "        [-0.01648886],\n",
       "        [-0.53339535],\n",
       "        [-0.2722539 ],\n",
       "        [ 0.02741617],\n",
       "        [ 0.19241641],\n",
       "        [-0.08288918],\n",
       "        [ 0.03032555],\n",
       "        [ 0.04116159],\n",
       "        [ 0.02455339],\n",
       "        [-0.1717822 ],\n",
       "        [ 0.05380092],\n",
       "        [-0.20004818],\n",
       "        [-0.60395104],\n",
       "        [-0.07688174],\n",
       "        [-0.02232129],\n",
       "        [ 0.02203809],\n",
       "        [-0.1598516 ],\n",
       "        [-0.1686892 ],\n",
       "        [-0.06394819],\n",
       "        [-0.17968266],\n",
       "        [ 0.05794161],\n",
       "        [-0.19863032],\n",
       "        [-0.00624813],\n",
       "        [ 0.19882831],\n",
       "        [-0.02570757],\n",
       "        [-0.28105792],\n",
       "        [ 0.17866461],\n",
       "        [ 0.01378127],\n",
       "        [-0.07917274],\n",
       "        [ 0.1471202 ],\n",
       "        [-0.07023469],\n",
       "        [-0.18150057],\n",
       "        [ 0.31698075],\n",
       "        [-0.17912823],\n",
       "        [-0.10000113],\n",
       "        [ 0.47510457],\n",
       "        [-0.20121145],\n",
       "        [-0.22249055],\n",
       "        [-0.22381291],\n",
       "        [-0.05831545],\n",
       "        [ 0.027466  ],\n",
       "        [ 0.04178692],\n",
       "        [-0.04098831],\n",
       "        [ 0.18771936],\n",
       "        [-0.01749726],\n",
       "        [ 0.1621063 ],\n",
       "        [ 0.19968541],\n",
       "        [-0.04850973],\n",
       "        [ 0.16813341],\n",
       "        [ 0.19050044],\n",
       "        [ 0.12853406],\n",
       "        [ 0.16259646],\n",
       "        [-0.08362006],\n",
       "        [-0.1060674 ],\n",
       "        [ 0.01963139],\n",
       "        [-0.18278779],\n",
       "        [-0.14124864],\n",
       "        [ 0.02570078],\n",
       "        [ 0.06307919],\n",
       "        [ 0.1491062 ],\n",
       "        [ 0.06815083],\n",
       "        [-0.04934382],\n",
       "        [ 0.09412088],\n",
       "        [-0.48950958],\n",
       "        [ 0.12310069],\n",
       "        [-0.18168378],\n",
       "        [-0.12930034],\n",
       "        [-0.10978249],\n",
       "        [-0.15612763],\n",
       "        [-0.01540978],\n",
       "        [-0.5544454 ],\n",
       "        [ 0.06988691],\n",
       "        [-0.02020518],\n",
       "        [-0.0190304 ],\n",
       "        [-0.27160847],\n",
       "        [ 0.18409935],\n",
       "        [ 0.07934272],\n",
       "        [ 0.10550714],\n",
       "        [-0.06958228],\n",
       "        [-0.0779428 ],\n",
       "        [-0.28607747],\n",
       "        [ 0.27686885],\n",
       "        [ 0.11118256],\n",
       "        [ 0.01795784],\n",
       "        [ 0.18960765],\n",
       "        [ 0.42793497],\n",
       "        [ 0.14056118],\n",
       "        [-1.002545  ],\n",
       "        [-0.0355439 ],\n",
       "        [-0.06195855],\n",
       "        [ 0.16633803],\n",
       "        [-0.13057958],\n",
       "        [ 0.03442227],\n",
       "        [ 0.12675914],\n",
       "        [-0.13383864],\n",
       "        [ 0.10281657],\n",
       "        [-0.06591783],\n",
       "        [-0.22694753],\n",
       "        [ 0.1441904 ],\n",
       "        [ 0.06408203],\n",
       "        [ 0.17107083],\n",
       "        [ 0.07334873]], dtype=float32),\n",
       " array([0.24939004], dtype=float32)]"
      ]
     },
     "execution_count": 4,
     "metadata": {},
     "output_type": "execute_result"
    }
   ],
   "source": [
    "model.get_weights()"
   ]
  },
  {
   "cell_type": "code",
   "execution_count": 5,
   "id": "22405e87",
   "metadata": {},
   "outputs": [],
   "source": [
    "# Step 2: Helper Functions\n",
    "# Function to decode reviews\n",
    "def decode_review(encoded_review):\n",
    "    return ' '.join([reverse_word_index.get(i - 3, '?') for i in encoded_review])\n",
    "\n",
    "# Function to preprocess user input\n",
    "def preprocess_text(text):\n",
    "    words = text.lower().split()\n",
    "    encoded_review = [word_index.get(word, 2) + 3 for word in words]\n",
    "    padded_review = sequence.pad_sequences([encoded_review], maxlen=500)\n",
    "    return padded_review"
   ]
  },
  {
   "cell_type": "code",
   "execution_count": 6,
   "id": "9c45f295",
   "metadata": {},
   "outputs": [],
   "source": [
    "### Prediction  function\n",
    "\n",
    "def predict_sentiment(review):\n",
    "    preprocessed_input=preprocess_text(review)\n",
    "\n",
    "    prediction=model.predict(preprocessed_input)\n",
    "\n",
    "    sentiment = 'Positive' if prediction[0][0] > 0.5 else 'Negative'\n",
    "    \n",
    "    return sentiment, prediction[0][0]\n",
    "\n"
   ]
  },
  {
   "cell_type": "code",
   "execution_count": 7,
   "id": "36c2293c",
   "metadata": {},
   "outputs": [
    {
     "name": "stdout",
     "output_type": "stream",
     "text": [
      "\u001b[1m1/1\u001b[0m \u001b[32m━━━━━━━━━━━━━━━━━━━━\u001b[0m\u001b[37m\u001b[0m \u001b[1m0s\u001b[0m 179ms/step\n",
      "Review: This movie was fantastic! The acting was great and the plot was thrilling.\n",
      "Sentiment: Negative\n",
      "Prediction Score: 0.4071950614452362\n"
     ]
    }
   ],
   "source": [
    "# Step 4: User Input and Prediction\n",
    "# Example review for prediction\n",
    "example_review = \"This movie was fantastic! The acting was great and the plot was thrilling.\"\n",
    "\n",
    "sentiment,score=predict_sentiment(example_review)\n",
    "\n",
    "print(f'Review: {example_review}')\n",
    "print(f'Sentiment: {sentiment}')\n",
    "print(f'Prediction Score: {score}')"
   ]
  },
  {
   "cell_type": "code",
   "execution_count": null,
   "id": "a4bed808",
   "metadata": {},
   "outputs": [],
   "source": []
  }
 ],
 "metadata": {
  "kernelspec": {
   "display_name": "venv",
   "language": "python",
   "name": "python3"
  },
  "language_info": {
   "codemirror_mode": {
    "name": "ipython",
    "version": 3
   },
   "file_extension": ".py",
   "mimetype": "text/x-python",
   "name": "python",
   "nbconvert_exporter": "python",
   "pygments_lexer": "ipython3",
   "version": "3.12.5"
  }
 },
 "nbformat": 4,
 "nbformat_minor": 5
}
